{
  "nbformat": 4,
  "nbformat_minor": 0,
  "metadata": {
    "colab": {
      "provenance": [],
      "gpuType": "T4",
      "authorship_tag": "ABX9TyMP1bXWn4Kh8cO8c576usIr",
      "include_colab_link": true
    },
    "kernelspec": {
      "name": "python3",
      "display_name": "Python 3"
    },
    "language_info": {
      "name": "python"
    },
    "accelerator": "GPU"
  },
  "cells": [
    {
      "cell_type": "markdown",
      "metadata": {
        "id": "view-in-github",
        "colab_type": "text"
      },
      "source": [
        "<a href=\"https://colab.research.google.com/github/look4pritam/KnowledgeDistillation/blob/master/Notebooks/KnowledgeDistillation.ipynb\" target=\"_parent\"><img src=\"https://colab.research.google.com/assets/colab-badge.svg\" alt=\"Open In Colab\"/></a>"
      ]
    },
    {
      "cell_type": "code",
      "source": [
        "!pip install pytorch-lightning"
      ],
      "metadata": {
        "id": "Rsb17hparso1"
      },
      "execution_count": null,
      "outputs": []
    },
    {
      "cell_type": "code",
      "source": [
        "import torch\n",
        "import torch.nn as nn\n",
        "import torch.nn.functional as F\n",
        "from torchvision import transforms, datasets\n",
        "from torch.utils.data import DataLoader\n",
        "import pytorch_lightning as pl"
      ],
      "metadata": {
        "id": "LOXnq2o0qwEG"
      },
      "execution_count": null,
      "outputs": []
    },
    {
      "cell_type": "markdown",
      "source": [
        "# Teacher Model."
      ],
      "metadata": {
        "id": "WPHoN4c7vXaV"
      }
    },
    {
      "cell_type": "code",
      "source": [
        "class TeacherCNN(nn.Module):\n",
        "    def __init__(self):\n",
        "        super().__init__()\n",
        "        self.conv1 = nn.Conv2d(3, 32, kernel_size=3, padding=1)\n",
        "        self.conv2 = nn.Conv2d(32, 64, kernel_size=3, padding=1)\n",
        "        self.conv3 = nn.Conv2d(64, 128, kernel_size=3, padding=1)\n",
        "        self.fc1 = nn.Linear(128 * 4 * 4, 512)\n",
        "        self.fc2 = nn.Linear(512, 10)\n",
        "\n",
        "    def forward(self, x):\n",
        "        x = F.relu(F.max_pool2d(self.conv1(x), 2))  # 32x32 -> 16x16\n",
        "        x = F.relu(F.max_pool2d(self.conv2(x), 2))  # 16x16 -> 8x8\n",
        "        x = F.relu(F.max_pool2d(self.conv3(x), 2))  # 8x8 -> 4x4\n",
        "        x = x.view(x.size(0), -1)\n",
        "        x = F.relu(self.fc1(x))\n",
        "        x = self.fc2(x)\n",
        "        return x"
      ],
      "metadata": {
        "id": "zHI_acPpq0bq"
      },
      "execution_count": null,
      "outputs": []
    },
    {
      "cell_type": "markdown",
      "source": [
        "# Lightning Module for Training Teacher Model."
      ],
      "metadata": {
        "id": "h8Qg8sSIvhaF"
      }
    },
    {
      "cell_type": "code",
      "source": [
        "class TeacherLightning(pl.LightningModule):\n",
        "    def __init__(self, model, learning_rate=1e-3):\n",
        "        super().__init__()\n",
        "        self.save_hyperparameters()\n",
        "        self.model = model\n",
        "        self.criterion = nn.CrossEntropyLoss()\n",
        "\n",
        "    def forward(self, x):\n",
        "        return self.model(x)\n",
        "\n",
        "    def training_step(self, batch, batch_idx):\n",
        "        x, y = batch\n",
        "        logits = self(x)\n",
        "        loss = self.criterion(logits, y)\n",
        "        self.log(\"train_loss_teacher\", loss)\n",
        "        return loss\n",
        "\n",
        "    def validation_step(self, batch, batch_idx):\n",
        "        x, y = batch\n",
        "        logits = self(x)\n",
        "        loss = self.criterion(logits, y)\n",
        "        preds = torch.argmax(logits, dim=1)\n",
        "        acc = (preds == y).float().mean()\n",
        "        self.log(\"val_loss_teacher\", loss, prog_bar=True)\n",
        "        self.log(\"val_acc_teacher\", acc, prog_bar=True)\n",
        "\n",
        "    def test_step(self, batch, batch_idx):\n",
        "        x, y = batch\n",
        "        logits = self(x)\n",
        "        loss = self.criterion(logits, y)\n",
        "        preds = torch.argmax(logits, dim=1)\n",
        "        acc = (preds == y).float().mean()\n",
        "        self.log(\"test_loss_teacher\", loss)\n",
        "        self.log(\"test_acc_teacher\", acc)\n",
        "        return acc\n",
        "\n",
        "    def configure_optimizers(self):\n",
        "        return torch.optim.Adam(self.parameters(), lr=self.hparams.learning_rate)"
      ],
      "metadata": {
        "id": "soIu4Ljwq387"
      },
      "execution_count": null,
      "outputs": []
    },
    {
      "cell_type": "markdown",
      "source": [
        "# Student Model."
      ],
      "metadata": {
        "id": "9n_JLphPvqYT"
      }
    },
    {
      "cell_type": "code",
      "source": [
        "class StudentModel(pl.LightningModule):\n",
        "    def __init__(self, teacher_model, temperature=3, alpha=0.5, lr=1e-3):\n",
        "        super().__init__()\n",
        "        self.save_hyperparameters()\n",
        "        self.teacher = teacher_model\n",
        "        self.temperature = temperature\n",
        "        self.alpha = alpha\n",
        "        self.lr = lr\n",
        "\n",
        "        # Freeze teacher parameters\n",
        "        self.teacher.eval()\n",
        "        for param in self.teacher.parameters():\n",
        "            param.requires_grad = False\n",
        "\n",
        "        # Student architecture\n",
        "        self.conv1 = nn.Conv2d(3, 16, kernel_size=3, padding=1)\n",
        "        self.conv2 = nn.Conv2d(16, 32, kernel_size=3, padding=1)\n",
        "        self.fc1 = nn.Linear(32 * 8 * 8, 128)\n",
        "        self.fc2 = nn.Linear(128, 10)\n",
        "\n",
        "    def setup(self, stage=None):\n",
        "        self.teacher.to(self.device)\n",
        "\n",
        "    def forward(self, x):\n",
        "        x = F.relu(F.max_pool2d(self.conv1(x), 2))\n",
        "        x = F.relu(F.max_pool2d(self.conv2(x), 2))\n",
        "        x = x.view(x.size(0), -1)\n",
        "        x = F.relu(self.fc1(x))\n",
        "        x = self.fc2(x)\n",
        "        return x\n",
        "\n",
        "    def training_step(self, batch, batch_idx):\n",
        "        x, y = batch\n",
        "\n",
        "        # Get teacher predictions\n",
        "        with torch.no_grad():\n",
        "            teacher_logits = self.teacher(x)\n",
        "\n",
        "        student_logits = self(x)\n",
        "\n",
        "        # Loss components\n",
        "        ce_loss = F.cross_entropy(student_logits, y)\n",
        "        student_logits_dist = student_logits / self.temperature\n",
        "        teacher_logits_dist = teacher_logits / self.temperature\n",
        "\n",
        "        # KL Divergence\n",
        "        student_log_prob = F.log_softmax(student_logits_dist, dim=1)\n",
        "        teacher_prob = F.softmax(teacher_logits_dist, dim=1)\n",
        "        kl_loss = F.kl_div(student_log_prob, teacher_prob, reduction='batchmean')\n",
        "\n",
        "        # Total loss\n",
        "        distillation_loss = (self.temperature ** 2) * kl_loss\n",
        "        loss = (1 - self.alpha) * ce_loss + self.alpha * distillation_loss\n",
        "\n",
        "        # Logging\n",
        "        self.log(\"train_loss_student\", loss)\n",
        "        self.log(\"ce_loss\", ce_loss)\n",
        "        self.log(\"dist_loss\", distillation_loss)\n",
        "        return loss\n",
        "\n",
        "    def validation_step(self, batch, batch_idx):\n",
        "        x, y = batch\n",
        "        student_logits = self(x)\n",
        "        loss = F.cross_entropy(student_logits, y)\n",
        "        preds = torch.argmax(student_logits, dim=1)\n",
        "        acc = (preds == y).float().mean()\n",
        "        self.log(\"val_loss_student\", loss, prog_bar=True)\n",
        "        self.log(\"val_acc_student\", acc, prog_bar=True)\n",
        "\n",
        "    def test_step(self, batch, batch_idx):\n",
        "        x, y = batch\n",
        "        student_logits = self(x)\n",
        "        loss = F.cross_entropy(student_logits, y)\n",
        "        preds = torch.argmax(student_logits, dim=1)\n",
        "        acc = (preds == y).float().mean()\n",
        "        self.log(\"test_loss_student\", loss)\n",
        "        self.log(\"test_acc_student\", acc)\n",
        "        return acc\n",
        "\n",
        "    def configure_optimizers(self):\n",
        "        return torch.optim.Adam(self.parameters(), lr=self.lr)"
      ],
      "metadata": {
        "id": "jPVA5Zoiq8MT"
      },
      "execution_count": null,
      "outputs": []
    },
    {
      "cell_type": "markdown",
      "source": [
        "# CIFAR-10 Data Module."
      ],
      "metadata": {
        "id": "41BerUiEvvus"
      }
    },
    {
      "cell_type": "code",
      "source": [
        "class CIFAR10DataModule(pl.LightningDataModule):\n",
        "    def __init__(self, batch_size=32):\n",
        "        super().__init__()\n",
        "        self.batch_size = batch_size\n",
        "        self.transform = transforms.Compose([\n",
        "            transforms.ToTensor(),\n",
        "            transforms.Normalize((0.4914, 0.4822, 0.4465),\n",
        "                                 (0.2023, 0.1994, 0.2010))\n",
        "        ])\n",
        "\n",
        "    def prepare_data(self):\n",
        "        datasets.CIFAR10(root='./data', train=True, download=True)\n",
        "        datasets.CIFAR10(root='./data', train=False, download=True)\n",
        "\n",
        "    def setup(self, stage=None):\n",
        "        if stage == 'fit' or stage is None:\n",
        "            self.train_dataset = datasets.CIFAR10(root='./data', train=True,\n",
        "                                                 transform=self.transform)\n",
        "            self.val_dataset = datasets.CIFAR10(root='./data', train=False,\n",
        "                                               transform=self.transform)\n",
        "        if stage == 'test':\n",
        "            self.test_dataset = datasets.CIFAR10(root='./data', train=False,\n",
        "                                                transform=self.transform)\n",
        "\n",
        "    def train_dataloader(self):\n",
        "        return DataLoader(self.train_dataset, batch_size=self.batch_size, shuffle=True)\n",
        "\n",
        "    def val_dataloader(self):\n",
        "        return DataLoader(self.val_dataset, batch_size=self.batch_size)\n",
        "\n",
        "    def test_dataloader(self):\n",
        "        return DataLoader(self.test_dataset, batch_size=self.batch_size)"
      ],
      "metadata": {
        "id": "GUfjG04arB7r"
      },
      "execution_count": null,
      "outputs": []
    },
    {
      "cell_type": "markdown",
      "source": [
        "# Train Teacher Model."
      ],
      "metadata": {
        "id": "XXklszEUw1b9"
      }
    },
    {
      "cell_type": "code",
      "source": [
        "teacher_model = TeacherCNN()\n",
        "teacher_lightning = TeacherLightning(teacher_model, learning_rate=1e-3)"
      ],
      "metadata": {
        "id": "TlY5I7Imwz41"
      },
      "execution_count": null,
      "outputs": []
    },
    {
      "cell_type": "code",
      "source": [
        "dm = CIFAR10DataModule(batch_size=32)"
      ],
      "metadata": {
        "id": "M8YdwZjLxMvN"
      },
      "execution_count": null,
      "outputs": []
    },
    {
      "cell_type": "code",
      "source": [
        "trainer_teacher = pl.Trainer(\n",
        "      max_epochs=20,\n",
        "      accelerator=\"auto\",\n",
        "      devices=1 if torch.cuda.is_available() else None,\n",
        "     logger=pl.loggers.TensorBoardLogger(\"logs/teacher\")\n",
        "    )\n",
        "trainer_teacher.fit(teacher_lightning, dm)"
      ],
      "metadata": {
        "id": "UlyMU6ZbxG8c"
      },
      "execution_count": null,
      "outputs": []
    },
    {
      "cell_type": "markdown",
      "source": [
        "# Save trained teacher model."
      ],
      "metadata": {
        "id": "_76dX4DmxBwF"
      }
    },
    {
      "cell_type": "code",
      "source": [
        "torch.save(teacher_model.state_dict(), \"teacher_model.pth\")"
      ],
      "metadata": {
        "id": "eZY5rt-2xDfd"
      },
      "execution_count": null,
      "outputs": []
    },
    {
      "cell_type": "markdown",
      "source": [
        "# Train Student Model using the trained Teacher Model."
      ],
      "metadata": {
        "id": "-y5LMfzMxZgO"
      }
    },
    {
      "cell_type": "code",
      "source": [
        "teacher = TeacherCNN()\n",
        "teacher.load_state_dict(torch.load(\"teacher_model.pth\"))\n",
        "teacher.eval()"
      ],
      "metadata": {
        "id": "JAr2lv1IxZw-"
      },
      "execution_count": null,
      "outputs": []
    },
    {
      "cell_type": "code",
      "source": [
        "student = StudentModel(teacher, temperature=3, alpha=0.5, lr=1e-3)"
      ],
      "metadata": {
        "id": "NY_pV-Z2xlTk"
      },
      "execution_count": null,
      "outputs": []
    },
    {
      "cell_type": "code",
      "source": [
        "trainer_student = pl.Trainer(\n",
        "        max_epochs=10,\n",
        "        accelerator=\"auto\",\n",
        "        devices=1 if torch.cuda.is_available() else None,\n",
        "        logger=pl.loggers.TensorBoardLogger(\"logs/student\")\n",
        ")"
      ],
      "metadata": {
        "id": "v4RttLRkxvGN"
      },
      "execution_count": null,
      "outputs": []
    },
    {
      "cell_type": "code",
      "source": [
        "trainer_student.fit(student, dm)"
      ],
      "metadata": {
        "id": "oT2-si8zxrx-"
      },
      "execution_count": null,
      "outputs": []
    }
  ]
}